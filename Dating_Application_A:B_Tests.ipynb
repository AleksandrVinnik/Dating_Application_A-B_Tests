{
 "cells": [
  {
   "cell_type": "markdown",
   "metadata": {},
   "source": [
    "# Case #1 - Dating Application\n",
    "You work as an analyst for an online dating application.\n",
    "\n",
    "The mechanics of the application are as follows: users view each other's profiles in the app and can either like or dislike them. If two users like each other's profiles, it's called a \"match,\" and they are given the opportunity to get to know each other.\n",
    "\n",
    "The application team has developed a new algorithm to find the most suitable profiles for users. To test the effectiveness of the algorithm, an A/B test was conducted. All users were divided into two groups. Users in group 0 used the app with the old algorithm, while all users in group 1 used the app with the new algorithm for profile matching.\n",
    "\n",
    "Your task is to evaluate whether the new algorithm has indeed improved the quality of the service. To do this, you need to choose one or several metrics that measure the quality of the service and statistically compare these metrics between the two groups.\n",
    "\n",
    "The data provided contains logs of user interactions with each other. For each user pair, it is indicated which A/B test group they belong to and whether they had a match.\n",
    "\n",
    "The outcome of your work should be an analytical report answering the question of whether it's worthwhile to implement the new profile matching system for all users.\n",
    "\n",
    "© https://karpov.courses/analytics"
   ]
  },
  {
   "cell_type": "markdown",
   "metadata": {},
   "source": [
    "## A/B Testing Plan:\n",
    "\n",
    "1. **Preprocessing:**\n",
    "    - Examine the data\n",
    "    \n",
    "    \n",
    "2. **Metrics:**\n",
    "    - Formulate the assumptions to be tested\n",
    "    - Calculate the metrics\n",
    "    - Create graphs\n",
    "    \n",
    "    \n",
    "3. **Hypothesis Testing:**\n",
    "     - Select the test method\n",
    "     - Define the hypothesis\n",
    "     - Perform the test\n",
    "     - Draw conclusions\n",
    "     \n",
    "     \n",
    "4. **Summary:**\n",
    "    - Formulate overall conclusions"
   ]
  },
  {
   "cell_type": "markdown",
   "metadata": {},
   "source": [
    "## 1. Preparation for Work"
   ]
  },
  {
   "cell_type": "code",
   "execution_count": 1,
   "metadata": {},
   "outputs": [],
   "source": [
    "# Loading Libraries\n",
    "\n",
    "import pandas as pd\n",
    "import seaborn as sns\n",
    "import matplotlib.pyplot as plt\n",
    "%matplotlib inline\n",
    "from scipy.stats import chi2_contingency, chi2 \n",
    "\n",
    "\n",
    "import pingouin as pg\n",
    "from scipy.stats import ttest_ind\n",
    "\n",
    "# Ignore outdated warnings\n",
    "import warnings\n",
    "warnings.filterwarnings(\"ignore\")"
   ]
  },
  {
   "cell_type": "code",
   "execution_count": 2,
   "metadata": {},
   "outputs": [],
   "source": [
    "# Preparing Common Settings for Plots\n",
    "\n",
    "sns.set(\n",
    "    rc={\n",
    "        \"figure.figsize\": (12, 8), #Setting the Size of the Plot - 12 inches in width and 8 inches in length\n",
    "        \"axes.titlesize\": 20, #Setting the Title Font Size \n",
    "        \"axes.labelsize\": 14, #Setting the Axis Labels Font Size\n",
    "        \"xtick.labelsize\": 13, #Setting the Ticks Font Size on the X-Axis\n",
    "        \"ytick.labelsize\": 13, #Setting the Ticks Font Size on the Y-Axis\n",
    "    }\n",
    ")\n",
    "\n",
    "sns.set_style(\"whitegrid\") #Setting the Background Theme with White Grid"
   ]
  },
  {
   "cell_type": "markdown",
   "metadata": {},
   "source": [
    "### 1.1. Data Loading"
   ]
  },
  {
   "cell_type": "code",
   "execution_count": 3,
   "metadata": {},
   "outputs": [
    {
     "data": {
      "text/html": [
       "<div>\n",
       "<style scoped>\n",
       "    .dataframe tbody tr th:only-of-type {\n",
       "        vertical-align: middle;\n",
       "    }\n",
       "\n",
       "    .dataframe tbody tr th {\n",
       "        vertical-align: top;\n",
       "    }\n",
       "\n",
       "    .dataframe thead th {\n",
       "        text-align: right;\n",
       "    }\n",
       "</style>\n",
       "<table border=\"1\" class=\"dataframe\">\n",
       "  <thead>\n",
       "    <tr style=\"text-align: right;\">\n",
       "      <th></th>\n",
       "      <th>user_id_1</th>\n",
       "      <th>user_id_2</th>\n",
       "      <th>group</th>\n",
       "      <th>is_match</th>\n",
       "    </tr>\n",
       "  </thead>\n",
       "  <tbody>\n",
       "    <tr>\n",
       "      <th>0</th>\n",
       "      <td>79</td>\n",
       "      <td>91</td>\n",
       "      <td>1</td>\n",
       "      <td>1</td>\n",
       "    </tr>\n",
       "    <tr>\n",
       "      <th>1</th>\n",
       "      <td>716</td>\n",
       "      <td>353</td>\n",
       "      <td>1</td>\n",
       "      <td>1</td>\n",
       "    </tr>\n",
       "    <tr>\n",
       "      <th>2</th>\n",
       "      <td>423</td>\n",
       "      <td>677</td>\n",
       "      <td>0</td>\n",
       "      <td>0</td>\n",
       "    </tr>\n",
       "    <tr>\n",
       "      <th>3</th>\n",
       "      <td>658</td>\n",
       "      <td>165</td>\n",
       "      <td>1</td>\n",
       "      <td>1</td>\n",
       "    </tr>\n",
       "    <tr>\n",
       "      <th>4</th>\n",
       "      <td>969</td>\n",
       "      <td>155</td>\n",
       "      <td>0</td>\n",
       "      <td>1</td>\n",
       "    </tr>\n",
       "  </tbody>\n",
       "</table>\n",
       "</div>"
      ],
      "text/plain": [
       "   user_id_1  user_id_2  group  is_match\n",
       "0         79         91      1         1\n",
       "1        716        353      1         1\n",
       "2        423        677      0         0\n",
       "3        658        165      1         1\n",
       "4        969        155      0         1"
      ]
     },
     "execution_count": 3,
     "metadata": {},
     "output_type": "execute_result"
    }
   ],
   "source": [
    "# Loading Data\n",
    "\n",
    "dating_data_df = pd.read_csv('dating_data.csv')\n",
    "dating_data_df.head()"
   ]
  },
  {
   "cell_type": "markdown",
   "metadata": {},
   "source": [
    "#### 1.1.1. Description of User Interaction Logs:\n",
    "\n",
    " - user #1 ID (user_id_1);\n",
    " - user #2 ID  2 (user_id_2);\n",
    " - users group (group):\n",
    "     - 0-control;\n",
    "     - 1-test;\n",
    " - whether a Match Occurred for the User Pair (is_match)."
   ]
  },
  {
   "cell_type": "markdown",
   "metadata": {},
   "source": [
    "### 1.2. General Statistics"
   ]
  },
  {
   "cell_type": "code",
   "execution_count": 4,
   "metadata": {},
   "outputs": [
    {
     "data": {
      "text/plain": [
       "(14514, 4)"
      ]
     },
     "execution_count": 4,
     "metadata": {},
     "output_type": "execute_result"
    }
   ],
   "source": [
    "# Data Size\n",
    "\n",
    "dating_data_df.shape"
   ]
  },
  {
   "cell_type": "code",
   "execution_count": 5,
   "metadata": {},
   "outputs": [
    {
     "data": {
      "text/plain": [
       "user_id_1    int64\n",
       "user_id_2    int64\n",
       "group        int64\n",
       "is_match     int64\n",
       "dtype: object"
      ]
     },
     "execution_count": 5,
     "metadata": {},
     "output_type": "execute_result"
    }
   ],
   "source": [
    "# Variable Types\n",
    "\n",
    "dating_data_df.dtypes"
   ]
  },
  {
   "cell_type": "code",
   "execution_count": 6,
   "metadata": {},
   "outputs": [
    {
     "data": {
      "text/plain": [
       "user_id_1    0\n",
       "user_id_2    0\n",
       "group        0\n",
       "is_match     0\n",
       "dtype: int64"
      ]
     },
     "execution_count": 6,
     "metadata": {},
     "output_type": "execute_result"
    }
   ],
   "source": [
    "# Missing Values\n",
    "\n",
    "dating_data_df.isna().sum()"
   ]
  },
  {
   "cell_type": "code",
   "execution_count": 7,
   "metadata": {},
   "outputs": [
    {
     "data": {
      "text/plain": [
       "user_id_1    [79, 716, 423, 658, 969, 227, 435, 602, 223, 1...\n",
       "user_id_2    [91, 353, 677, 165, 155, 162, 16, 327, 295, 46...\n",
       "group                                                   [1, 0]\n",
       "is_match                                                [1, 0]\n",
       "dtype: object"
      ]
     },
     "execution_count": 7,
     "metadata": {},
     "output_type": "execute_result"
    }
   ],
   "source": [
    "# Unique Values\n",
    "\n",
    "dating_data_df.apply(lambda x: x.unique())"
   ]
  },
  {
   "cell_type": "markdown",
   "metadata": {},
   "source": [
    "## 2. Metrics, Graphs, Hypotheses, and Tests"
   ]
  },
  {
   "cell_type": "markdown",
   "metadata": {},
   "source": [
    "### 2.1. Metrics\n",
    "\n",
    "Let's establish the target metrics that need to show improvement for us to conclude the effectiveness of the intervention:\n",
    "\n",
    "Target metrics:\n",
    "\n",
    "    - actions per User - Number of Likes and Matches;\n",
    "    - conversion Rate per Group - Matches/Actions.\n",
    "    - conversion Rate per User - Matches/Actions."
   ]
  },
  {
   "cell_type": "markdown",
   "metadata": {},
   "source": [
    "### 2.2. Graphs"
   ]
  },
  {
   "cell_type": "code",
   "execution_count": 8,
   "metadata": {},
   "outputs": [
    {
     "data": {
      "image/png": "[encoded data removed]",
      "text/plain": [
       "<Figure size 864x576 with 1 Axes>"
      ]
     },
     "metadata": {},
     "output_type": "display_data"
    }
   ],
   "source": [
    "# Number of Users in the Test and Control Groups\n",
    "\n",
    "dating_data_df['group'].replace({0: \"control\", 1: \"test\"}).value_counts().plot.bar()\n",
    "plt.xlabel(\"Group of Users\")\n",
    "plt.ylabel(\"Number of Users\")\n",
    "plt.title(\"Number of Users per Group\")\n",
    "plt.show()"
   ]
  },
  {
   "cell_type": "markdown",
   "metadata": {},
   "source": [
    "In the test group, there are significantly more users than in the control group, which may not have been intended.\n",
    "\n",
    "### ! It is necessary to recheck the traffic splitting system !"
   ]
  },
  {
   "cell_type": "code",
   "execution_count": 9,
   "metadata": {},
   "outputs": [],
   "source": [
    "# Let's perform the necessary transformations to calculate metrics and conduct statistical tests\n",
    " \n",
    "activity_by_user = dating_data_df \\\n",
    "    .groupby(['user_id_1', 'group']) \\\n",
    "    .agg({'is_match' : 'sum', 'user_id_2' : 'count'}) \\\n",
    "    .reset_index() \\\n",
    "    .rename(columns={'is_match' : 'sum_matches', 'user_id_2' : 'count_actions'}) \\"
   ]
  },
  {
   "cell_type": "code",
   "execution_count": 10,
   "metadata": {},
   "outputs": [],
   "source": [
    "# Let's calculate the conversion rate (Conversion Rate - CR) = sum_matches / count_actions * 100\n",
    "\n",
    "activity_by_user = activity_by_user.assign(CR = 100*activity_by_user.sum_matches/activity_by_user.count_actions)"
   ]
  },
  {
   "cell_type": "code",
   "execution_count": 11,
   "metadata": {},
   "outputs": [],
   "source": [
    "activity_by_user['group'] = activity_by_user['group'].replace({0: \"control\", 1: \"test\"})"
   ]
  },
  {
   "cell_type": "code",
   "execution_count": 12,
   "metadata": {},
   "outputs": [
    {
     "data": {
      "text/html": [
       "<div>\n",
       "<style scoped>\n",
       "    .dataframe tbody tr th:only-of-type {\n",
       "        vertical-align: middle;\n",
       "    }\n",
       "\n",
       "    .dataframe tbody tr th {\n",
       "        vertical-align: top;\n",
       "    }\n",
       "\n",
       "    .dataframe thead th {\n",
       "        text-align: right;\n",
       "    }\n",
       "</style>\n",
       "<table border=\"1\" class=\"dataframe\">\n",
       "  <thead>\n",
       "    <tr style=\"text-align: right;\">\n",
       "      <th></th>\n",
       "      <th>user_id_1</th>\n",
       "      <th>group</th>\n",
       "      <th>sum_matches</th>\n",
       "      <th>count_actions</th>\n",
       "      <th>CR</th>\n",
       "    </tr>\n",
       "  </thead>\n",
       "  <tbody>\n",
       "    <tr>\n",
       "      <th>0</th>\n",
       "      <td>1</td>\n",
       "      <td>test</td>\n",
       "      <td>11</td>\n",
       "      <td>24</td>\n",
       "      <td>45.833333</td>\n",
       "    </tr>\n",
       "    <tr>\n",
       "      <th>1</th>\n",
       "      <td>2</td>\n",
       "      <td>test</td>\n",
       "      <td>7</td>\n",
       "      <td>16</td>\n",
       "      <td>43.750000</td>\n",
       "    </tr>\n",
       "    <tr>\n",
       "      <th>2</th>\n",
       "      <td>3</td>\n",
       "      <td>test</td>\n",
       "      <td>5</td>\n",
       "      <td>16</td>\n",
       "      <td>31.250000</td>\n",
       "    </tr>\n",
       "    <tr>\n",
       "      <th>3</th>\n",
       "      <td>4</td>\n",
       "      <td>control</td>\n",
       "      <td>2</td>\n",
       "      <td>9</td>\n",
       "      <td>22.222222</td>\n",
       "    </tr>\n",
       "    <tr>\n",
       "      <th>4</th>\n",
       "      <td>5</td>\n",
       "      <td>test</td>\n",
       "      <td>13</td>\n",
       "      <td>22</td>\n",
       "      <td>59.090909</td>\n",
       "    </tr>\n",
       "  </tbody>\n",
       "</table>\n",
       "</div>"
      ],
      "text/plain": [
       "   user_id_1    group  sum_matches  count_actions         CR\n",
       "0          1     test           11             24  45.833333\n",
       "1          2     test            7             16  43.750000\n",
       "2          3     test            5             16  31.250000\n",
       "3          4  control            2              9  22.222222\n",
       "4          5     test           13             22  59.090909"
      ]
     },
     "execution_count": 12,
     "metadata": {},
     "output_type": "execute_result"
    }
   ],
   "source": [
    "activity_by_user.head()"
   ]
  },
  {
   "cell_type": "markdown",
   "metadata": {},
   "source": [
    "## 3. Hypothesis testing"
   ]
  },
  {
   "cell_type": "markdown",
   "metadata": {},
   "source": [
    "### 3.1 Actions\n",
    "\n",
    "Let's examine how user activity changed depending on the application version.\n",
    "\n",
    "We will consider \"User Action_1\" as the presence of the pair ID_user_1-ID_user_X in the application logs, regardless of whether there was a match for the pair."
   ]
  },
  {
   "cell_type": "code",
   "execution_count": 13,
   "metadata": {},
   "outputs": [
    {
     "data": {
      "text/plain": [
       "Text(0.5, 1.0, 'The number of actions per user')"
      ]
     },
     "execution_count": 13,
     "metadata": {},
     "output_type": "execute_result"
    },
    {
     "data": {
      "image/png": "[encoded data removed]",
      "text/plain": [
       "<Figure size 864x576 with 1 Axes>"
      ]
     },
     "metadata": {},
     "output_type": "display_data"
    }
   ],
   "source": [
    "# The number of actions per user\n",
    "\n",
    "sns.boxplot(x=\"group\", y=\"count_actions\", data=activity_by_user)\n",
    "plt.xlabel(\"The group of users\")\n",
    "plt.ylabel(\"The number of actions\")\n",
    "plt.title(\"The number of actions per user\")"
   ]
  },
  {
   "cell_type": "markdown",
   "metadata": {},
   "source": [
    "On the graph, we can observe that the number of actions in the application with the new version of the algorithm has significantly increased. Let's check if the differences obtained are statistically significant. We will examine the distributions of the number of actions."
   ]
  },
  {
   "cell_type": "code",
   "execution_count": 14,
   "metadata": {},
   "outputs": [
    {
     "data": {
      "text/plain": [
       "Text(0.5, 1.0, 'The distribution of the number of actions')"
      ]
     },
     "execution_count": 14,
     "metadata": {},
     "output_type": "execute_result"
    },
    {
     "data": {
      "image/png": "[encoded data removed]",
      "text/plain": [
       "<Figure size 812.5x432 with 1 Axes>"
      ]
     },
     "metadata": {},
     "output_type": "display_data"
    }
   ],
   "source": [
    "sns.displot(data=activity_by_user, x='count_actions', hue='group', kde=False, height=6, aspect=1.7)\n",
    "plt.xlabel(\"The number of actions\")\n",
    "plt.ylabel(\"Frequency\")\n",
    "plt.title(\"The distribution of the number of actions\")"
   ]
  },
  {
   "cell_type": "markdown",
   "metadata": {},
   "source": [
    "Based on the graph, we can make an assumption that the distributions appear to be normal."
   ]
  },
  {
   "cell_type": "markdown",
   "metadata": {},
   "source": [
    "#### 3.1.1 Actions. Tests\n",
    "\n",
    "The number of actions is a discrete variable. The choice of a statistical test will depend on the distribution properties.\n",
    "\n",
    "Let's perform tests for normality and homogeneity."
   ]
  },
  {
   "cell_type": "code",
   "execution_count": 15,
   "metadata": {},
   "outputs": [
    {
     "data": {
      "text/html": [
       "<div>\n",
       "<style scoped>\n",
       "    .dataframe tbody tr th:only-of-type {\n",
       "        vertical-align: middle;\n",
       "    }\n",
       "\n",
       "    .dataframe tbody tr th {\n",
       "        vertical-align: top;\n",
       "    }\n",
       "\n",
       "    .dataframe thead th {\n",
       "        text-align: right;\n",
       "    }\n",
       "</style>\n",
       "<table border=\"1\" class=\"dataframe\">\n",
       "  <thead>\n",
       "    <tr style=\"text-align: right;\">\n",
       "      <th></th>\n",
       "      <th>W</th>\n",
       "      <th>pval</th>\n",
       "      <th>normal</th>\n",
       "    </tr>\n",
       "  </thead>\n",
       "  <tbody>\n",
       "    <tr>\n",
       "      <th>test</th>\n",
       "      <td>4.262189</td>\n",
       "      <td>0.118707</td>\n",
       "      <td>True</td>\n",
       "    </tr>\n",
       "    <tr>\n",
       "      <th>control</th>\n",
       "      <td>2.406168</td>\n",
       "      <td>0.300267</td>\n",
       "      <td>True</td>\n",
       "    </tr>\n",
       "  </tbody>\n",
       "</table>\n",
       "</div>"
      ],
      "text/plain": [
       "                W      pval  normal\n",
       "test     4.262189  0.118707    True\n",
       "control  2.406168  0.300267    True"
      ]
     },
     "execution_count": 15,
     "metadata": {},
     "output_type": "execute_result"
    }
   ],
   "source": [
    "# Shapiro-Wilk Test for Normality\n",
    "\n",
    "pg.normality(data=activity_by_user, dv=\"count_actions\", group=\"group\", method=\"normaltest\")"
   ]
  },
  {
   "cell_type": "markdown",
   "metadata": {},
   "source": [
    "The distributions in the test and control groups are normal.\n",
    "Let's test the samples for homogeneity."
   ]
  },
  {
   "cell_type": "code",
   "execution_count": 16,
   "metadata": {},
   "outputs": [
    {
     "data": {
      "text/html": [
       "<div>\n",
       "<style scoped>\n",
       "    .dataframe tbody tr th:only-of-type {\n",
       "        vertical-align: middle;\n",
       "    }\n",
       "\n",
       "    .dataframe tbody tr th {\n",
       "        vertical-align: top;\n",
       "    }\n",
       "\n",
       "    .dataframe thead th {\n",
       "        text-align: right;\n",
       "    }\n",
       "</style>\n",
       "<table border=\"1\" class=\"dataframe\">\n",
       "  <thead>\n",
       "    <tr style=\"text-align: right;\">\n",
       "      <th></th>\n",
       "      <th>W</th>\n",
       "      <th>pval</th>\n",
       "      <th>equal_var</th>\n",
       "    </tr>\n",
       "  </thead>\n",
       "  <tbody>\n",
       "    <tr>\n",
       "      <th>levene</th>\n",
       "      <td>0.480454</td>\n",
       "      <td>0.488378</td>\n",
       "      <td>True</td>\n",
       "    </tr>\n",
       "  </tbody>\n",
       "</table>\n",
       "</div>"
      ],
      "text/plain": [
       "               W      pval  equal_var\n",
       "levene  0.480454  0.488378       True"
      ]
     },
     "execution_count": 16,
     "metadata": {},
     "output_type": "execute_result"
    }
   ],
   "source": [
    "# test for equality of variances \n",
    "\n",
    "pg.homoscedasticity(data=activity_by_user, dv=\"count_actions\", group=\"group\")"
   ]
  },
  {
   "cell_type": "markdown",
   "metadata": {},
   "source": [
    "Since the samples are normally distributed and have equivalent variances, we will use the parametric paired t-test (Student's t-test).\n",
    "\n",
    "    H0 (null hypothesis) - The number of actions is not dependent on the application version.\n",
    "    H1 (alternative hypothesis) - In the new version of the application, users perform more actions."
   ]
  },
  {
   "cell_type": "code",
   "execution_count": 17,
   "metadata": {},
   "outputs": [],
   "source": [
    "result = ttest_ind(\n",
    "    activity_by_user[activity_by_user.group==\"test\"].count_actions,\n",
    "    activity_by_user[activity_by_user.group==\"control\"].count_actions\n",
    ")"
   ]
  },
  {
   "cell_type": "code",
   "execution_count": 18,
   "metadata": {},
   "outputs": [
    {
     "data": {
      "text/plain": [
       "1.8942877064043142e-285"
      ]
     },
     "execution_count": 18,
     "metadata": {},
     "output_type": "execute_result"
    }
   ],
   "source": [
    "p = result.pvalue\n",
    "p"
   ]
  },
  {
   "cell_type": "code",
   "execution_count": 19,
   "metadata": {},
   "outputs": [
    {
     "name": "stdout",
     "output_type": "stream",
     "text": [
      "Rejecting H0.\n"
     ]
    }
   ],
   "source": [
    "# Let's set the significance level alpha = 0.05.\n",
    "\n",
    "prob = 0.95\n",
    "alpha = 1.0 - prob\n",
    "if p <= alpha:\n",
    "    print('Rejecting H0.')\n",
    "else:\n",
    "    print('Rejecting H1.')"
   ]
  },
  {
   "cell_type": "markdown",
   "metadata": {},
   "source": [
    "#### 3.1.2 Actions. Conclusion\n",
    "\n",
    "The change is statistically significant, in the new version of the application, users started performing more actions."
   ]
  },
  {
   "cell_type": "code",
   "execution_count": 20,
   "metadata": {},
   "outputs": [
    {
     "data": {
      "text/html": [
       "<div>\n",
       "<style scoped>\n",
       "    .dataframe tbody tr th:only-of-type {\n",
       "        vertical-align: middle;\n",
       "    }\n",
       "\n",
       "    .dataframe tbody tr th {\n",
       "        vertical-align: top;\n",
       "    }\n",
       "\n",
       "    .dataframe thead tr th {\n",
       "        text-align: left;\n",
       "    }\n",
       "\n",
       "    .dataframe thead tr:last-of-type th {\n",
       "        text-align: right;\n",
       "    }\n",
       "</style>\n",
       "<table border=\"1\" class=\"dataframe\">\n",
       "  <thead>\n",
       "    <tr>\n",
       "      <th></th>\n",
       "      <th colspan=\"4\" halign=\"left\">count_actions</th>\n",
       "    </tr>\n",
       "    <tr>\n",
       "      <th></th>\n",
       "      <th>mean</th>\n",
       "      <th>median</th>\n",
       "      <th>min</th>\n",
       "      <th>max</th>\n",
       "    </tr>\n",
       "    <tr>\n",
       "      <th>group</th>\n",
       "      <th></th>\n",
       "      <th></th>\n",
       "      <th></th>\n",
       "      <th></th>\n",
       "    </tr>\n",
       "  </thead>\n",
       "  <tbody>\n",
       "    <tr>\n",
       "      <th>control</th>\n",
       "      <td>9.564870</td>\n",
       "      <td>9</td>\n",
       "      <td>1</td>\n",
       "      <td>20</td>\n",
       "    </tr>\n",
       "    <tr>\n",
       "      <th>test</th>\n",
       "      <td>19.482966</td>\n",
       "      <td>20</td>\n",
       "      <td>11</td>\n",
       "      <td>29</td>\n",
       "    </tr>\n",
       "  </tbody>\n",
       "</table>\n",
       "</div>"
      ],
      "text/plain": [
       "        count_actions               \n",
       "                 mean median min max\n",
       "group                               \n",
       "control      9.564870      9   1  20\n",
       "test        19.482966     20  11  29"
      ]
     },
     "execution_count": 20,
     "metadata": {},
     "output_type": "execute_result"
    }
   ],
   "source": [
    "# Mean, Median, Minimum, Maximum number of actions per user by groups.\n",
    "\n",
    "activity_by_user.groupby(['group']).agg({'count_actions' : ['mean', 'median', 'min', 'max']})"
   ]
  },
  {
   "cell_type": "markdown",
   "metadata": {},
   "source": [
    "### 3.2. Conversion rate per group\n",
    "\n",
    "Let's examine how user activity changed depending on the application version.\n",
    "\n",
    "We will consider the ratio of the number of actions to matches by user groups.\n",
    "\n",
    "For comparing click-through rates and conversions, the Pearson's chi-square test is suitable. We will prepare a contingency table."
   ]
  },
  {
   "cell_type": "code",
   "execution_count": 21,
   "metadata": {},
   "outputs": [
    {
     "data": {
      "text/html": [
       "<div>\n",
       "<style scoped>\n",
       "    .dataframe tbody tr th:only-of-type {\n",
       "        vertical-align: middle;\n",
       "    }\n",
       "\n",
       "    .dataframe tbody tr th {\n",
       "        vertical-align: top;\n",
       "    }\n",
       "\n",
       "    .dataframe thead th {\n",
       "        text-align: right;\n",
       "    }\n",
       "</style>\n",
       "<table border=\"1\" class=\"dataframe\">\n",
       "  <thead>\n",
       "    <tr style=\"text-align: right;\">\n",
       "      <th>is_match</th>\n",
       "      <th>actions</th>\n",
       "      <th>matches</th>\n",
       "    </tr>\n",
       "    <tr>\n",
       "      <th>group</th>\n",
       "      <th></th>\n",
       "      <th></th>\n",
       "    </tr>\n",
       "  </thead>\n",
       "  <tbody>\n",
       "    <tr>\n",
       "      <th>control</th>\n",
       "      <td>3858</td>\n",
       "      <td>934</td>\n",
       "    </tr>\n",
       "    <tr>\n",
       "      <th>test</th>\n",
       "      <td>5813</td>\n",
       "      <td>3909</td>\n",
       "    </tr>\n",
       "  </tbody>\n",
       "</table>\n",
       "</div>"
      ],
      "text/plain": [
       "is_match  actions  matches\n",
       "group                     \n",
       "control      3858      934\n",
       "test         5813     3909"
      ]
     },
     "execution_count": 21,
     "metadata": {},
     "output_type": "execute_result"
    }
   ],
   "source": [
    "cross_t = pd.crosstab(dating_data_df.group, dating_data_df.is_match)\\\n",
    "    .rename(columns={1 : 'matches', 0 : 'actions'}) \\\n",
    "    .rename(index={1 : 'test', 0 : 'control'})\n",
    "cross_t"
   ]
  },
  {
   "cell_type": "code",
   "execution_count": 22,
   "metadata": {},
   "outputs": [
    {
     "data": {
      "image/png": "[encoded data removed]",
      "text/plain": [
       "<Figure size 864x576 with 1 Axes>"
      ]
     },
     "metadata": {},
     "output_type": "display_data"
    }
   ],
   "source": [
    "fig, ax = plt.subplots()\n",
    "cross_t.plot(kind='bar', ax=ax)\n",
    "plt.xlabel(\"Group of users\")\n",
    "plt.ylabel(\"Number of actions\")\n",
    "plt.title(\"Number of actions per group\")\n",
    "plt.show()"
   ]
  },
  {
   "cell_type": "markdown",
   "metadata": {},
   "source": [
    "Users became more active in the application with the new algorithm, and the number of matches also significantly increased."
   ]
  },
  {
   "cell_type": "markdown",
   "metadata": {},
   "source": [
    "#### 3.2.1. Conversion rate per group. Tests"
   ]
  },
  {
   "cell_type": "markdown",
   "metadata": {},
   "source": [
    "Let's analyze the obtained contingency table and check if the differences are statistically significant.\n",
    "\n",
    "In the contingency table, each cell has more than 10 observations.\n",
    "To assess the statistical significance of the differences, we will use the Pearson's chi-square test.\n",
    "\n",
    "Let's state the hypotheses:\n",
    "\n",
    "    H0 (null hypothesis) - The ratio of actions to matches is not dependent on the group;\n",
    "    H1 (alternative hypothesis) - In the test group, the conversion rate has increased.."
   ]
  },
  {
   "cell_type": "code",
   "execution_count": 23,
   "metadata": {},
   "outputs": [
    {
     "data": {
      "text/plain": [
       "1.4418299163662586e-136"
      ]
     },
     "execution_count": 23,
     "metadata": {},
     "output_type": "execute_result"
    }
   ],
   "source": [
    "stat, p, dof, expected = chi2_contingency(cross_t)\n",
    "p"
   ]
  },
  {
   "cell_type": "code",
   "execution_count": 24,
   "metadata": {},
   "outputs": [
    {
     "name": "stdout",
     "output_type": "stream",
     "text": [
      "Reject H0.\n"
     ]
    }
   ],
   "source": [
    "# Let's set the significance level alpha = 0.05.\n",
    "\n",
    "prob = 0.95\n",
    "alpha = 1.0 - prob\n",
    "if p <= alpha:\n",
    "    print('Reject H0.')\n",
    "else:\n",
    "    print('Reject H1')"
   ]
  },
  {
   "cell_type": "markdown",
   "metadata": {},
   "source": [
    "#### 3.2.2. Conversion rate per group. Conclusion\n",
    "\n",
    "The change is statistically significant - in the new version of the application, a statistically significant increase in the conversion rate metric has been observed."
   ]
  },
  {
   "cell_type": "code",
   "execution_count": 25,
   "metadata": {},
   "outputs": [
    {
     "data": {
      "text/html": [
       "<div>\n",
       "<style scoped>\n",
       "    .dataframe tbody tr th:only-of-type {\n",
       "        vertical-align: middle;\n",
       "    }\n",
       "\n",
       "    .dataframe tbody tr th {\n",
       "        vertical-align: top;\n",
       "    }\n",
       "\n",
       "    .dataframe thead th {\n",
       "        text-align: right;\n",
       "    }\n",
       "</style>\n",
       "<table border=\"1\" class=\"dataframe\">\n",
       "  <thead>\n",
       "    <tr style=\"text-align: right;\">\n",
       "      <th>is_match</th>\n",
       "      <th>actions</th>\n",
       "      <th>matches</th>\n",
       "    </tr>\n",
       "    <tr>\n",
       "      <th>group</th>\n",
       "      <th></th>\n",
       "      <th></th>\n",
       "    </tr>\n",
       "  </thead>\n",
       "  <tbody>\n",
       "    <tr>\n",
       "      <th>control</th>\n",
       "      <td>3858</td>\n",
       "      <td>934</td>\n",
       "    </tr>\n",
       "    <tr>\n",
       "      <th>test</th>\n",
       "      <td>5813</td>\n",
       "      <td>3909</td>\n",
       "    </tr>\n",
       "  </tbody>\n",
       "</table>\n",
       "</div>"
      ],
      "text/plain": [
       "is_match  actions  matches\n",
       "group                     \n",
       "control      3858      934\n",
       "test         5813     3909"
      ]
     },
     "execution_count": 25,
     "metadata": {},
     "output_type": "execute_result"
    }
   ],
   "source": [
    "cross_t"
   ]
  },
  {
   "cell_type": "markdown",
   "metadata": {},
   "source": [
    "## 3.3. Conversion rate per user\n",
    "\n",
    "    - Conversion rate per user = Matches/Actions.\n",
    "\n",
    "Let's examine how the conversion rate changed depending on the application version."
   ]
  },
  {
   "cell_type": "code",
   "execution_count": 26,
   "metadata": {},
   "outputs": [
    {
     "data": {
      "text/plain": [
       "Text(0.5, 1.0, 'Conversion rate (CR) - Matches/Actions')"
      ]
     },
     "execution_count": 26,
     "metadata": {},
     "output_type": "execute_result"
    },
    {
     "data": {
      "image/png": "[encoded data removed]",
      "text/plain": [
       "<Figure size 864x576 with 1 Axes>"
      ]
     },
     "metadata": {},
     "output_type": "display_data"
    }
   ],
   "source": [
    "# Conversion rate - Matches/Actions\n",
    "\n",
    "sns.boxplot(x=\"group\", y=\"CR\", data=activity_by_user)\n",
    "plt.xlabel(\"Users Group\")\n",
    "plt.ylabel(\"Conversion rate\")\n",
    "plt.title(\"Conversion rate (CR) - Matches/Actions\")"
   ]
  },
  {
   "cell_type": "code",
   "execution_count": 27,
   "metadata": {},
   "outputs": [
    {
     "data": {
      "text/plain": [
       "Text(0.5, 1.0, 'Conversion rate distribution')"
      ]
     },
     "execution_count": 27,
     "metadata": {},
     "output_type": "execute_result"
    },
    {
     "data": {
      "image/png": "[encoded data removed]",
      "text/plain": [
       "<Figure size 812.5x432 with 1 Axes>"
      ]
     },
     "metadata": {},
     "output_type": "display_data"
    }
   ],
   "source": [
    "sns.displot(data=activity_by_user, x='CR', hue='group', kde=False, height=6, aspect=1.7)\n",
    "plt.xlabel(\"Conversion rate\")\n",
    "plt.ylabel(\"Frequency\")\n",
    "plt.title(\"Conversion rate distribution\")"
   ]
  },
  {
   "cell_type": "markdown",
   "metadata": {},
   "source": [
    "The graphs clearly show that the conversion rate in the application with the new algorithm version has significantly increased, as the distribution of the test group is shifted to the right along the X-axis.\n",
    "\n",
    "Let's check if the obtained differences are statistically significant.\n",
    "\n",
    "Since the distribution in the control group is not normal, we will also examine the QQ Plot for further analysis."
   ]
  },
  {
   "cell_type": "code",
   "execution_count": 28,
   "metadata": {},
   "outputs": [
    {
     "data": {
      "text/plain": [
       "Text(0.5, 1.0, 'Conversion rate - Matches/Activity (Control Group)')"
      ]
     },
     "execution_count": 28,
     "metadata": {},
     "output_type": "execute_result"
    },
    {
     "data": {
      "image/png": "[encoded data removed]",
      "text/plain": [
       "<Figure size 864x576 with 1 Axes>"
      ]
     },
     "metadata": {},
     "output_type": "display_data"
    }
   ],
   "source": [
    "fig, ax = plt.subplots(figsize=(12, 8))\n",
    "pg.qqplot(activity_by_user[activity_by_user.group==\"control\"].CR, ax=ax)\n",
    "ax.set_title(\"Conversion rate - Matches/Activity (Control Group)\")"
   ]
  },
  {
   "cell_type": "markdown",
   "metadata": {},
   "source": [
    "#### 3.3.1. Conversion rate per users. Tests.\n",
    "\n",
    "Let's perform tests for normality and homogeneity."
   ]
  },
  {
   "cell_type": "code",
   "execution_count": 29,
   "metadata": {},
   "outputs": [
    {
     "data": {
      "text/html": [
       "<div>\n",
       "<style scoped>\n",
       "    .dataframe tbody tr th:only-of-type {\n",
       "        vertical-align: middle;\n",
       "    }\n",
       "\n",
       "    .dataframe tbody tr th {\n",
       "        vertical-align: top;\n",
       "    }\n",
       "\n",
       "    .dataframe thead th {\n",
       "        text-align: right;\n",
       "    }\n",
       "</style>\n",
       "<table border=\"1\" class=\"dataframe\">\n",
       "  <thead>\n",
       "    <tr style=\"text-align: right;\">\n",
       "      <th></th>\n",
       "      <th>W</th>\n",
       "      <th>pval</th>\n",
       "      <th>normal</th>\n",
       "    </tr>\n",
       "  </thead>\n",
       "  <tbody>\n",
       "    <tr>\n",
       "      <th>test</th>\n",
       "      <td>0.273892</td>\n",
       "      <td>0.872017</td>\n",
       "      <td>True</td>\n",
       "    </tr>\n",
       "    <tr>\n",
       "      <th>control</th>\n",
       "      <td>24.051422</td>\n",
       "      <td>0.000006</td>\n",
       "      <td>False</td>\n",
       "    </tr>\n",
       "  </tbody>\n",
       "</table>\n",
       "</div>"
      ],
      "text/plain": [
       "                 W      pval  normal\n",
       "test      0.273892  0.872017    True\n",
       "control  24.051422  0.000006   False"
      ]
     },
     "execution_count": 29,
     "metadata": {},
     "output_type": "execute_result"
    }
   ],
   "source": [
    "# Shapiro-Wilk Test for Normality\n",
    "\n",
    "pg.normality(data=activity_by_user, dv=\"CR\", group=\"group\", method=\"normaltest\")"
   ]
  },
  {
   "cell_type": "markdown",
   "metadata": {},
   "source": [
    "Let's check the samples for homogeneity."
   ]
  },
  {
   "cell_type": "code",
   "execution_count": 30,
   "metadata": {},
   "outputs": [
    {
     "data": {
      "text/html": [
       "<div>\n",
       "<style scoped>\n",
       "    .dataframe tbody tr th:only-of-type {\n",
       "        vertical-align: middle;\n",
       "    }\n",
       "\n",
       "    .dataframe tbody tr th {\n",
       "        vertical-align: top;\n",
       "    }\n",
       "\n",
       "    .dataframe thead th {\n",
       "        text-align: right;\n",
       "    }\n",
       "</style>\n",
       "<table border=\"1\" class=\"dataframe\">\n",
       "  <thead>\n",
       "    <tr style=\"text-align: right;\">\n",
       "      <th></th>\n",
       "      <th>W</th>\n",
       "      <th>pval</th>\n",
       "      <th>equal_var</th>\n",
       "    </tr>\n",
       "  </thead>\n",
       "  <tbody>\n",
       "    <tr>\n",
       "      <th>levene</th>\n",
       "      <td>10.367478</td>\n",
       "      <td>0.001324</td>\n",
       "      <td>False</td>\n",
       "    </tr>\n",
       "  </tbody>\n",
       "</table>\n",
       "</div>"
      ],
      "text/plain": [
       "                W      pval  equal_var\n",
       "levene  10.367478  0.001324      False"
      ]
     },
     "execution_count": 30,
     "metadata": {},
     "output_type": "execute_result"
    }
   ],
   "source": [
    "# test for equality of variances\n",
    "\n",
    "pg.homoscedasticity(data=activity_by_user, dv=\"CR\", group=\"group\")"
   ]
  },
  {
   "cell_type": "markdown",
   "metadata": {},
   "source": [
    "Correct, with a large sample size, the t-test becomes more robust to violations of normality and homogeneity. This allows us to use the t-test for testing hypotheses about differences in means even when the original data is non-normally distributed.\n",
    "\n",
    "Let's use the parametric paired t-test (Student's t-test).\n",
    "\n",
    "    H0 (null hypothesis) - The conversion rate is equivalent in the test and control groups.;\n",
    "    H1 (alternative hypothesis) - In the test group, the conversion rate has increased."
   ]
  },
  {
   "cell_type": "code",
   "execution_count": 31,
   "metadata": {},
   "outputs": [],
   "source": [
    "result = ttest_ind(\n",
    "    activity_by_user[activity_by_user.group==\"test\"].CR,\n",
    "    activity_by_user[activity_by_user.group==\"control\"].CR\n",
    ")"
   ]
  },
  {
   "cell_type": "code",
   "execution_count": 32,
   "metadata": {},
   "outputs": [
    {
     "data": {
      "text/plain": [
       "4.842755754030156e-117"
      ]
     },
     "execution_count": 32,
     "metadata": {},
     "output_type": "execute_result"
    }
   ],
   "source": [
    "p = result.pvalue\n",
    "p"
   ]
  },
  {
   "cell_type": "code",
   "execution_count": 33,
   "metadata": {},
   "outputs": [
    {
     "name": "stdout",
     "output_type": "stream",
     "text": [
      "Reject H0\n"
     ]
    }
   ],
   "source": [
    "# Let's set the significance level alpha = 0.05.\n",
    "\n",
    "prob = 0.95\n",
    "alpha = 1.0 - prob\n",
    "if p <= alpha:\n",
    "    print('Reject H0')\n",
    "else:\n",
    "    print('Reject H1')"
   ]
  },
  {
   "cell_type": "markdown",
   "metadata": {},
   "source": [
    "#### 3.3.2. Conversion rate. Conclusion\n",
    "\n",
    "The change is statistically significant; in the new version of the application, the mean conversion rate has increased."
   ]
  },
  {
   "cell_type": "code",
   "execution_count": 34,
   "metadata": {},
   "outputs": [
    {
     "data": {
      "text/html": [
       "<div>\n",
       "<style scoped>\n",
       "    .dataframe tbody tr th:only-of-type {\n",
       "        vertical-align: middle;\n",
       "    }\n",
       "\n",
       "    .dataframe tbody tr th {\n",
       "        vertical-align: top;\n",
       "    }\n",
       "\n",
       "    .dataframe thead tr th {\n",
       "        text-align: left;\n",
       "    }\n",
       "\n",
       "    .dataframe thead tr:last-of-type th {\n",
       "        text-align: right;\n",
       "    }\n",
       "</style>\n",
       "<table border=\"1\" class=\"dataframe\">\n",
       "  <thead>\n",
       "    <tr>\n",
       "      <th></th>\n",
       "      <th colspan=\"4\" halign=\"left\">CR</th>\n",
       "    </tr>\n",
       "    <tr>\n",
       "      <th></th>\n",
       "      <th>mean</th>\n",
       "      <th>median</th>\n",
       "      <th>min</th>\n",
       "      <th>max</th>\n",
       "    </tr>\n",
       "    <tr>\n",
       "      <th>group</th>\n",
       "      <th></th>\n",
       "      <th></th>\n",
       "      <th></th>\n",
       "      <th></th>\n",
       "    </tr>\n",
       "  </thead>\n",
       "  <tbody>\n",
       "    <tr>\n",
       "      <th>control</th>\n",
       "      <td>19.409911</td>\n",
       "      <td>18.181818</td>\n",
       "      <td>0.0</td>\n",
       "      <td>66.666667</td>\n",
       "    </tr>\n",
       "    <tr>\n",
       "      <th>test</th>\n",
       "      <td>40.234484</td>\n",
       "      <td>40.000000</td>\n",
       "      <td>0.0</td>\n",
       "      <td>72.222222</td>\n",
       "    </tr>\n",
       "  </tbody>\n",
       "</table>\n",
       "</div>"
      ],
      "text/plain": [
       "                CR                           \n",
       "              mean     median  min        max\n",
       "group                                        \n",
       "control  19.409911  18.181818  0.0  66.666667\n",
       "test     40.234484  40.000000  0.0  72.222222"
      ]
     },
     "execution_count": 34,
     "metadata": {},
     "output_type": "execute_result"
    }
   ],
   "source": [
    "# Mean, Median, Minimum, Maximum conversion rate per groups.\n",
    "\n",
    "activity_by_user.groupby(['group']).agg({'CR' : ['mean', 'median', 'min', 'max']})"
   ]
  },
  {
   "cell_type": "markdown",
   "metadata": {},
   "source": [
    "## 4. Summary\n",
    "\n",
    "In the new version of the application, there has been a statistically significant increase in the average number of actions performed by users in test group.\n",
    "\n",
    "Furthermore, the conversion rate has also significantly increased for test group, along with the average metric values across users.\n",
    "\n",
    "Considering the observed statistically significant growth in the target metrics, it is recommended to deploy the new profile search system for all users in commercial operation."
   ]
  }
 ],
 "metadata": {
  "kernelspec": {
   "display_name": "Python 3",
   "language": "python",
   "name": "python3"
  },
  "language_info": {
   "codemirror_mode": {
    "name": "ipython",
    "version": 3
   },
   "file_extension": ".py",
   "mimetype": "text/x-python",
   "name": "python",
   "nbconvert_exporter": "python",
   "pygments_lexer": "ipython3",
   "version": "3.7.3"
  }
 },
 "nbformat": 4,
 "nbformat_minor": 4
}
